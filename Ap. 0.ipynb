{
 "cells": [
  {
   "cell_type": "code",
   "execution_count": 1,
   "metadata": {},
   "outputs": [
    {
     "name": "stderr",
     "output_type": "stream",
     "text": [
      "[nltk_data] Downloading package punkt to\n",
      "[nltk_data]     C:\\Users\\guyal\\AppData\\Roaming\\nltk_data...\n",
      "[nltk_data]   Package punkt is already up-to-date!\n",
      "[nltk_data] Downloading package averaged_perceptron_tagger to\n",
      "[nltk_data]     C:\\Users\\guyal\\AppData\\Roaming\\nltk_data...\n",
      "[nltk_data]   Package averaged_perceptron_tagger is already up-to-\n",
      "[nltk_data]       date!\n"
     ]
    },
    {
     "data": {
      "text/plain": [
       "True"
      ]
     },
     "execution_count": 1,
     "metadata": {},
     "output_type": "execute_result"
    }
   ],
   "source": [
    "import nltk\n",
    "\n",
    "nltk.download('punkt')\n",
    "nltk.download('averaged_perceptron_tagger')"
   ]
  },
  {
   "cell_type": "code",
   "execution_count": 2,
   "metadata": {},
   "outputs": [
    {
     "name": "stdout",
     "output_type": "stream",
     "text": [
      "[('on', 'IN'), ('the', 'DT')]\n",
      "[('and', 'CC'), ('the', 'DT')]\n",
      "[('then', 'RB')]\n"
     ]
    }
   ],
   "source": [
    "import pandas\n",
    "import nltk\n",
    "\n",
    "data = pandas.read_json('chain_ds.json')\n",
    "\n",
    "s = {} # freq\n",
    "\n",
    "for f in data['data']:\n",
    "    for r in f['split']:\n",
    "        tok = nltk.word_tokenize(r)\n",
    "        pos = nltk.pos_tag(tok)    \n",
    "        \n",
    "        print(pos )\n",
    "\n",
    "        for t in pos:\n",
    "            if t[1] in s:\n",
    "                s[t[1]] += 1\n",
    "            else:\n",
    "                s[t[1]] = 1\n",
    "        "
   ]
  },
  {
   "cell_type": "code",
   "execution_count": 3,
   "metadata": {},
   "outputs": [],
   "source": [
    "mp = {}\n",
    "\n",
    "for f in data['data']:\n",
    "    inp = f['in']\n",
    "    in_tok = nltk.word_tokenize(inp)\n",
    "    in_pos = nltk.pos_tag(in_tok)\n",
    "    \n",
    "    for k in range(len(in_pos)):\n",
    "        c = in_pos[k][1]\n",
    "        prev = \"\" if k == 0 else in_pos[k - 1][1]\n",
    "        nex = \"\" if k == len(in_pos) - 1 else in_pos[k + 1][1]\n",
    "        \n",
    "        c_s = s[c] if c in s else 0\n",
    "#         prev_s = s[prev] if prev in s else 0\n",
    "#         nex_s = s[nex] if nex in s else 0\n",
    "        \n",
    "        t = c_s\n",
    "        mp[c] =t\n",
    "        \n",
    "dm = {}\n",
    "\n",
    "mp_v = mp.values() \n",
    "m = sum(mp_v) / len(mp_v)\n",
    "\n",
    "for k in mp:\n",
    "    dm[k] = (abs(mp[k] - m))\n"
   ]
  },
  {
   "cell_type": "code",
   "execution_count": 4,
   "metadata": {},
   "outputs": [],
   "source": [
    "def fit(t):\n",
    "    t_tok = nltk.word_tokenize(t)\n",
    "    t_pos = nltk.pos_tag(t_tok)\n",
    "    \n",
    "    vs = []\n",
    "    for pos in t_pos:\n",
    "        i = pos[1]\n",
    "        if i in dm:\n",
    "            t = (pos[0], dm[i])\n",
    "            vs.append(t)\n",
    "        else:\n",
    "            vs.append((pos[0], 0))\n",
    "    \n",
    "    return vs"
   ]
  },
  {
   "cell_type": "code",
   "execution_count": 6,
   "metadata": {},
   "outputs": [
    {
     "data": {
      "text/plain": [
       "['find', 'the difference between 10 and the product of the weather in alamba']"
      ]
     },
     "execution_count": 6,
     "metadata": {},
     "output_type": "execute_result"
    }
   ],
   "source": [
    "t = \"\"\n",
    "fit_t = fit(t)\n",
    "\n",
    "g = []\n",
    "c_set = []\n",
    "c_val = 0\n",
    "\n",
    "for fp in fit_t:\n",
    "    if fp[1] > c_val:\n",
    "        if len(c_set) > 0:\n",
    "            g.append(c_set)\n",
    "            c_set = []\n",
    "\n",
    "        c_val = fp[1]\n",
    "    \n",
    "    c_set.append(fp[0])\n",
    "    \n",
    "g.append(c_set)\n",
    "\n",
    "list(map(lambda x: \" \".join(x), g))"
   ]
  },
  {
   "cell_type": "code",
   "execution_count": null,
   "metadata": {},
   "outputs": [],
   "source": []
  }
 ],
 "metadata": {
  "kernelspec": {
   "display_name": "Python 3",
   "language": "python",
   "name": "python3"
  },
  "language_info": {
   "codemirror_mode": {
    "name": "ipython",
    "version": 3
   },
   "file_extension": ".py",
   "mimetype": "text/x-python",
   "name": "python",
   "nbconvert_exporter": "python",
   "pygments_lexer": "ipython3",
   "version": "3.7.7"
  }
 },
 "nbformat": 4,
 "nbformat_minor": 4
}
