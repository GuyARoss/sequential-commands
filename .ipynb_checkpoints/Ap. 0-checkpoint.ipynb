{
 "cells": [
  {
   "cell_type": "code",
   "execution_count": 13,
   "metadata": {},
   "outputs": [
    {
     "name": "stderr",
     "output_type": "stream",
     "text": [
      "[nltk_data] Downloading package punkt to\n",
      "[nltk_data]     C:\\Users\\guyal\\AppData\\Roaming\\nltk_data...\n",
      "[nltk_data]   Package punkt is already up-to-date!\n",
      "[nltk_data] Downloading package averaged_perceptron_tagger to\n",
      "[nltk_data]     C:\\Users\\guyal\\AppData\\Roaming\\nltk_data...\n",
      "[nltk_data]   Package averaged_perceptron_tagger is already up-to-\n",
      "[nltk_data]       date!\n"
     ]
    },
    {
     "data": {
      "text/plain": [
       "True"
      ]
     },
     "execution_count": 13,
     "metadata": {},
     "output_type": "execute_result"
    }
   ],
   "source": [
    "import nltk\n",
    "\n",
    "nltk.download('punkt')\n",
    "nltk.download('averaged_perceptron_tagger')"
   ]
  },
  {
   "cell_type": "code",
   "execution_count": 14,
   "metadata": {},
   "outputs": [
    {
     "name": "stdout",
     "output_type": "stream",
     "text": [
      "[('on', 'IN'), ('the', 'DT')]\n",
      "[('and', 'CC'), ('the', 'DT')]\n",
      "[('then', 'RB')]\n"
     ]
    },
    {
     "data": {
      "text/plain": [
       "{'IN': 1, 'DT': 2, 'CC': 1, 'RB': 1}"
      ]
     },
     "execution_count": 14,
     "metadata": {},
     "output_type": "execute_result"
    }
   ],
   "source": [
    "import pandas\n",
    "import nltk\n",
    "\n",
    "data = pandas.read_json('chain_ds.json')\n",
    "\n",
    "s = {} # freq\n",
    "\n",
    "for f in data['data']:\n",
    "    for r in f['split']:\n",
    "        tok = nltk.word_tokenize(r)\n",
    "        pos = nltk.pos_tag(tok)    \n",
    "        \n",
    "        print(pos )\n",
    "\n",
    "        for t in pos:\n",
    "            if t[1] in s:\n",
    "                s[t[1]] += 1\n",
    "            else:\n",
    "                s[t[1]] = 1\n",
    "        \n",
    "s"
   ]
  },
  {
   "cell_type": "code",
   "execution_count": 15,
   "metadata": {},
   "outputs": [
    {
     "data": {
      "text/plain": [
       "{'MD': 0.35714285714285715,\n",
       " 'PRP': 0.35714285714285715,\n",
       " 'VB': 0.35714285714285715,\n",
       " 'TO': 0.35714285714285715,\n",
       " 'DT': 1.6428571428571428,\n",
       " 'NN': 0.35714285714285715,\n",
       " 'IN': 0.6428571428571428,\n",
       " 'NNP': 0.35714285714285715,\n",
       " 'RP': 0.35714285714285715,\n",
       " 'NNS': 0.35714285714285715,\n",
       " 'CC': 0.6428571428571428,\n",
       " 'JJ': 0.35714285714285715,\n",
       " 'CD': 0.35714285714285715,\n",
       " 'RB': 0.6428571428571428}"
      ]
     },
     "execution_count": 15,
     "metadata": {},
     "output_type": "execute_result"
    }
   ],
   "source": [
    "mp = {}\n",
    "\n",
    "for f in data['data']:\n",
    "    inp = f['in']\n",
    "    in_tok = nltk.word_tokenize(inp)\n",
    "    in_pos = nltk.pos_tag(in_tok)\n",
    "    \n",
    "    for k in range(len(in_pos)):\n",
    "        c = in_pos[k][1]\n",
    "        prev = \"\" if k == 0 else in_pos[k - 1][1]\n",
    "        nex = \"\" if k == len(in_pos) - 1 else in_pos[k + 1][1]\n",
    "        \n",
    "        c_s = s[c] if c in s else 0\n",
    "#         prev_s = s[prev] if prev in s else 0\n",
    "#         nex_s = s[nex] if nex in s else 0\n",
    "        \n",
    "        t = c_s\n",
    "        mp[c] =t\n",
    "        \n",
    "dm = {}\n",
    "\n",
    "mp_v = mp.values() \n",
    "m = sum(mp_v) / len(mp_v)\n",
    "\n",
    "for k in mp:\n",
    "    dm[k] = (abs(mp[k] - m))\n",
    "\n",
    "dm"
   ]
  },
  {
   "cell_type": "code",
   "execution_count": 26,
   "metadata": {},
   "outputs": [],
   "source": [
    "def fit(t):\n",
    "    t_tok = nltk.word_tokenize(t)\n",
    "    t_pos = nltk.pos_tag(t_tok)\n",
    "    \n",
    "    vs = []\n",
    "    for pos in t_pos:\n",
    "        i = pos[1]\n",
    "        if i in dm:\n",
    "            t = (pos[0], dm[i])\n",
    "            vs.append(t)\n",
    "        else:\n",
    "            vs.append((pos[0], 0))\n",
    "    print(vs)\n",
    "    \n",
    "    return vs"
   ]
  },
  {
   "cell_type": "code",
   "execution_count": 31,
   "metadata": {},
   "outputs": [
    {
     "name": "stdout",
     "output_type": "stream",
     "text": [
      "[('add', 0.6428571428571428), ('52', 0.35714285714285715), ('to', 0.35714285714285715), ('the', 1.6428571428571428), ('low', 0.35714285714285715), ('of', 0.6428571428571428), ('san', 0.35714285714285715), ('francisco', 0.35714285714285715)]\n",
      "0.6428571428571428 0\n",
      "0.35714285714285715 0.6428571428571428\n",
      "0.35714285714285715 0.6428571428571428\n",
      "1.6428571428571428 0.6428571428571428\n",
      "0.35714285714285715 1.6428571428571428\n",
      "0.6428571428571428 1.6428571428571428\n",
      "0.35714285714285715 1.6428571428571428\n",
      "0.35714285714285715 1.6428571428571428\n"
     ]
    },
    {
     "data": {
      "text/plain": [
       "[['add', '52', 'to']]"
      ]
     },
     "execution_count": 31,
     "metadata": {},
     "output_type": "execute_result"
    }
   ],
   "source": [
    "t = \"add 52 to the low of san francisco\"\n",
    "fit_t = fit(t)\n",
    "\n",
    "g = []\n",
    "c_set = []\n",
    "c_val = 0\n",
    "\n",
    "for fp in fit_t:\n",
    "    print(fp[1], c_val)\n",
    "    if fp[1] > c_val:\n",
    "        if len(c_set) > 0:\n",
    "            g.append(c_set)\n",
    "            c_set = []\n",
    "\n",
    "        c_val = fp[1]\n",
    "    \n",
    "    #? \n",
    "    c_set.append(fp[0])\n",
    "    \n",
    "g"
   ]
  },
  {
   "cell_type": "code",
   "execution_count": null,
   "metadata": {},
   "outputs": [],
   "source": []
  }
 ],
 "metadata": {
  "kernelspec": {
   "display_name": "Python 3",
   "language": "python",
   "name": "python3"
  },
  "language_info": {
   "codemirror_mode": {
    "name": "ipython",
    "version": 3
   },
   "file_extension": ".py",
   "mimetype": "text/x-python",
   "name": "python",
   "nbconvert_exporter": "python",
   "pygments_lexer": "ipython3",
   "version": "3.7.7"
  }
 },
 "nbformat": 4,
 "nbformat_minor": 4
}
